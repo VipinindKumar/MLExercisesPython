{
 "cells": [
  {
   "cell_type": "markdown",
   "metadata": {},
   "source": [
    "# Logistic Regression to recognize hand-written digits(0 to 9)"
   ]
  },
  {
   "cell_type": "code",
   "execution_count": 60,
   "metadata": {},
   "outputs": [],
   "source": [
    "import numpy as np\n",
    "import pandas as pd\n",
    "import matplotlib.pyplot as plt\n",
    "from scipy.io import loadmat"
   ]
  },
  {
   "cell_type": "code",
   "execution_count": 61,
   "metadata": {},
   "outputs": [
    {
     "data": {
      "text/plain": [
       "{'X': array([[0., 0., 0., ..., 0., 0., 0.],\n",
       "        [0., 0., 0., ..., 0., 0., 0.],\n",
       "        [0., 0., 0., ..., 0., 0., 0.],\n",
       "        ...,\n",
       "        [0., 0., 0., ..., 0., 0., 0.],\n",
       "        [0., 0., 0., ..., 0., 0., 0.],\n",
       "        [0., 0., 0., ..., 0., 0., 0.]]),\n",
       " '__globals__': [],\n",
       " '__header__': b'MATLAB 5.0 MAT-file, Platform: GLNXA64, Created on: Sun Oct 16 13:09:09 2011',\n",
       " '__version__': '1.0',\n",
       " 'y': array([[10],\n",
       "        [10],\n",
       "        [10],\n",
       "        ...,\n",
       "        [ 9],\n",
       "        [ 9],\n",
       "        [ 9]], dtype=uint8)}"
      ]
     },
     "execution_count": 61,
     "metadata": {},
     "output_type": "execute_result"
    }
   ],
   "source": [
    "data = loadmat('machine-learning-ex3/ex3/ex3data1.mat')\n",
    "data"
   ]
  },
  {
   "cell_type": "code",
   "execution_count": 62,
   "metadata": {},
   "outputs": [
    {
     "data": {
      "text/plain": [
       "((5000, 400), (5000, 1))"
      ]
     },
     "execution_count": 62,
     "metadata": {},
     "output_type": "execute_result"
    }
   ],
   "source": [
    "data['X'].shape, data['y'].shape"
   ]
  },
  {
   "cell_type": "code",
   "execution_count": 63,
   "metadata": {},
   "outputs": [],
   "source": [
    "def sigmoid(z):\n",
    "    return 1 / (1 + np.exp(-z))"
   ]
  },
  {
   "cell_type": "code",
   "execution_count": 64,
   "metadata": {},
   "outputs": [],
   "source": [
    "# Cost function for logistic regression which returns J\n",
    "def cost(theta, X, y, lam):\n",
    "    theta = np.matrix(theta)\n",
    "    X = np.matrix(X)\n",
    "    y = np.matrix(y)\n",
    "    \n",
    "    # number of training examples\n",
    "    m = len(y)\n",
    "    \n",
    "    term1 = np.multiply(-y, np.log(sigmoid(X * theta.T)))\n",
    "    term2 = np.multiply((1 - y), np.log(1 - sigmoid(X * theta.T)))\n",
    "    reg = (lam / (2 * m)) * np.sum(np.power(theta[:,1:theta.shape[1]], 2))\n",
    "    J = (1 / m) * (np.sum(term1 - term2)) + reg\n",
    "    \n",
    "    return J"
   ]
  },
  {
   "cell_type": "code",
   "execution_count": 91,
   "metadata": {},
   "outputs": [],
   "source": [
    "def gradient(theta, X, y, lam):\n",
    "    theta = np.matrix(theta)\n",
    "    X = np.matrix(X)\n",
    "    y = np.matrix(y)\n",
    "    \n",
    "    # number of training examples\n",
    "    m = len(y)\n",
    "    error = sigmoid(X * theta.T) - y\n",
    "    \n",
    "    grad = ((1 / m) * (X.T * error)).T + (lam / m) * theta\n",
    "    \n",
    "    # intercept gradient is not regularized\n",
    "    grad[0, 0] = np.sum(np.multiply(error, X[:,0])) / len(X)\n",
    "    \n",
    "    return np.array(grad).ravel()"
   ]
  },
  {
   "cell_type": "code",
   "execution_count": 81,
   "metadata": {},
   "outputs": [],
   "source": [
    "from scipy.optimize import minimize\n",
    "\n",
    "# OnevsAll method to train k classifiers for k different classes\n",
    "def oneVsAll(X, y, k, lam):\n",
    "    m = X.shape[0]\n",
    "    n = X.shape[1]\n",
    "    \n",
    "    # array to store parameters values for k classifiers\n",
    "    all_theta = np.zeros((k, n+1))\n",
    "    \n",
    "    X = np.insert(X, 0, 1, axis=1)\n",
    "    \n",
    "    initial_theta = np.zeros(n+1)\n",
    "    \n",
    "    # labels in y are indexed 1 to 9 and digit 0 is mapped to index 10\n",
    "    for i in range(1, k+1):\n",
    "        y_i = np.array([1 if label == i else 0 for label in y])\n",
    "        y_i = y_i.reshape(m, 1)\n",
    "        \n",
    "        # minimize the cost function\n",
    "        fmin = minimize(fun=cost, x0=theta, args=(X, y_i, lam), method='TNC', jac=gradient)\n",
    "        all_theta[i-1, :] = fmin.x\n",
    "        \n",
    "    return all_theta"
   ]
  },
  {
   "cell_type": "code",
   "execution_count": 82,
   "metadata": {},
   "outputs": [
    {
     "data": {
      "text/plain": [
       "((5000, 401), (5000, 1), (401,), (10, 401))"
      ]
     },
     "execution_count": 82,
     "metadata": {},
     "output_type": "execute_result"
    }
   ],
   "source": [
    "# checking shape of some arrays\n",
    "rows = data['X'].shape[0]\n",
    "params = data['X'].shape[1]\n",
    "\n",
    "all_theta = np.zeros((10, params + 1))\n",
    "\n",
    "X = np.insert(data['X'], 0, 1, axis=1)\n",
    "\n",
    "theta = np.zeros(params + 1)\n",
    "\n",
    "y_0 = np.array([1 if label == 0 else 0 for label in data['y']])\n",
    "y_0 = np.reshape(y_0, (rows, 1))\n",
    "\n",
    "X.shape, y_0.shape, theta.shape, all_theta.shape"
   ]
  },
  {
   "cell_type": "code",
   "execution_count": 92,
   "metadata": {},
   "outputs": [
    {
     "data": {
      "text/plain": [
       "array([[-2.38312114e+00,  0.00000000e+00,  0.00000000e+00, ...,\n",
       "         1.30441457e-03, -7.47969349e-10,  0.00000000e+00],\n",
       "       [-3.18171737e+00,  0.00000000e+00,  0.00000000e+00, ...,\n",
       "         4.46188951e-03, -5.08709849e-04,  0.00000000e+00],\n",
       "       [-4.79911754e+00,  0.00000000e+00,  0.00000000e+00, ...,\n",
       "        -2.86939691e-05, -2.47202954e-07,  0.00000000e+00],\n",
       "       ...,\n",
       "       [-7.98655664e+00,  0.00000000e+00,  0.00000000e+00, ...,\n",
       "        -8.91603139e-05,  7.20529930e-06,  0.00000000e+00],\n",
       "       [-4.57447341e+00,  0.00000000e+00,  0.00000000e+00, ...,\n",
       "        -1.33707881e-03,  9.99155510e-05,  0.00000000e+00],\n",
       "       [-5.40501584e+00,  0.00000000e+00,  0.00000000e+00, ...,\n",
       "        -1.16611806e-04,  7.88209230e-06,  0.00000000e+00]])"
      ]
     },
     "execution_count": 92,
     "metadata": {},
     "output_type": "execute_result"
    }
   ],
   "source": [
    "k = len(np.unique(data['y']))\n",
    "lam = 1\n",
    "\n",
    "all_theta = oneVsAll(data['X'], data['y'], k, lam)\n",
    "all_theta"
   ]
  },
  {
   "cell_type": "code",
   "execution_count": 93,
   "metadata": {},
   "outputs": [],
   "source": [
    "def predictAll(X, all_theta):\n",
    "    m = X.shape[0]\n",
    "    n = X.shape[1]\n",
    "    k = all_theta.shape[0]\n",
    "    \n",
    "    X = np.matrix(np.insert(X, 0, 1, axis=1))\n",
    "    all_theta = np.matrix(all_theta)\n",
    "    \n",
    "    # compute the probability for each class for each training set\n",
    "    # h -> m x k\n",
    "    h = sigmoid(X * all_theta.T)\n",
    "    \n",
    "    # choose index with maximum probability\n",
    "    # hmax -> m x 1\n",
    "    hmax = np.argmax(h, axis=1)\n",
    "    \n",
    "    # because our array was zero-indexed we need to add one for the true label prediction\n",
    "    hmax = hmax + 1\n",
    "    \n",
    "    return hmax"
   ]
  },
  {
   "cell_type": "code",
   "execution_count": 94,
   "metadata": {
    "scrolled": true
   },
   "outputs": [
    {
     "name": "stdout",
     "output_type": "stream",
     "text": [
      "accuracy: 94.46\n"
     ]
    }
   ],
   "source": [
    "predictions = predict_all(data['X'], all_theta)\n",
    "correct = [1 if a == b else 0 for (a,b) in zip(predictions, data['y'])]\n",
    "accuracy = (sum(correct) / len(correct)) * 100\n",
    "print('accuracy: %0.2f' % accuracy)"
   ]
  },
  {
   "cell_type": "code",
   "execution_count": null,
   "metadata": {},
   "outputs": [],
   "source": []
  }
 ],
 "metadata": {
  "kernelspec": {
   "display_name": "Python 3",
   "language": "python",
   "name": "python3"
  },
  "language_info": {
   "codemirror_mode": {
    "name": "ipython",
    "version": 3
   },
   "file_extension": ".py",
   "mimetype": "text/x-python",
   "name": "python",
   "nbconvert_exporter": "python",
   "pygments_lexer": "ipython3",
   "version": "3.5.2"
  }
 },
 "nbformat": 4,
 "nbformat_minor": 2
}
